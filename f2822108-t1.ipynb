{
 "cells": [
  {
   "cell_type": "markdown",
   "id": "963c1462",
   "metadata": {},
   "source": [
    "# Big Data Systems and Architectures - Kafka & Airflow Assignment\n",
    "\n",
    "> Konstantinos Ninas, f2822108 <br />\n",
    "> MSc in Business Analytics <br />\n",
    "> Department of Management Science and Technology <br />\n",
    "> Athens University of Economics and Business <br />\n",
    "> f2822108@aueb.gr"
   ]
  },
  {
   "cell_type": "code",
   "execution_count": 1,
   "id": "3ce30318",
   "metadata": {},
   "outputs": [
    {
     "name": "stderr",
     "output_type": "stream",
     "text": [
      "WARNING:root:OSError while attempting to symlink the latest log directory\n"
     ]
    }
   ],
   "source": [
    "#import of libraries\n",
    "from airflow import DAG\n",
    "from airflow.operators.bash import BashOperator\n",
    "import datetime as dt"
   ]
  },
  {
   "cell_type": "code",
   "execution_count": 2,
   "id": "f19ed3d5",
   "metadata": {},
   "outputs": [],
   "source": [
    "#We give the default arguments for the DAG that will be created (Start date, number of retries and retry delay)\n",
    "default_args = {\n",
    "    'owner': 'me',\n",
    "    'start_date': dt.datetime(2022, 4, 5),\n",
    "    'retries': 1,\n",
    "    'retry_delay': dt.timedelta(minutes=5)\n",
    "}"
   ]
  },
  {
   "cell_type": "code",
   "execution_count": 3,
   "id": "14d9494f",
   "metadata": {},
   "outputs": [],
   "source": [
    "#dag creation\n",
    "#we name the dag and give it a description, and we add the default args created above\n",
    "dag = DAG('task_1_pipelines)',\n",
    "         description='Name Print',\n",
    "         default_args=default_args,\n",
    "         schedule_interval=dt.timedelta(seconds=5))"
   ]
  },
  {
   "cell_type": "code",
   "execution_count": 4,
   "id": "3fd1eb0d",
   "metadata": {},
   "outputs": [],
   "source": [
    "#Task 1.1: Create a variable with your first name through bash commands \n",
    "Task1_1 =  BashOperator(task_id = 'firstName_var',\n",
    "                       bash_command='firstName=\"kostas\"',\n",
    "                       dag=dag)"
   ]
  },
  {
   "cell_type": "code",
   "execution_count": 5,
   "id": "1895194f",
   "metadata": {},
   "outputs": [],
   "source": [
    "#Task 1.2: Create a variable with your last name through bash commands \n",
    "Task1_2 =  BashOperator(task_id = 'lastName_var',\n",
    "                       bash_command='lastName=\"ninas\"',\n",
    "                       dag=dag)"
   ]
  },
  {
   "cell_type": "code",
   "execution_count": 6,
   "id": "6918e559",
   "metadata": {},
   "outputs": [],
   "source": [
    "#Task 2.1: update the first letter of the first name through bash commands.\n",
    "#to update the first letter of the firstName we use the sed command with regular expressions\n",
    "Task2_1 =  BashOperator(task_id = 'update_firstname_1stdigit',\n",
    "                       bash_command=\"echo $firstName | sed 's/^./N/g'\",\n",
    "                       dag=dag)"
   ]
  },
  {
   "cell_type": "code",
   "execution_count": 7,
   "id": "ac622f53",
   "metadata": {},
   "outputs": [],
   "source": [
    "#Task 2.2: update the first letter of the last name through bash commands.\n",
    "#to update the first letter of the lastName we use the sed command with regular expressions\n",
    "Task2_2 =  BashOperator(task_id = 'update_lastname_1stdigit',\n",
    "                       bash_command=\"echo $lastName | sed 's/^./N/g'\",\n",
    "                       dag=dag)"
   ]
  },
  {
   "cell_type": "code",
   "execution_count": 8,
   "id": "b4e7785d",
   "metadata": {},
   "outputs": [],
   "source": [
    "#Task 3: print the firstName and the lastName variables with a blank space in the middle\n",
    "#with the echo command\n",
    "Task3 =  BashOperator(task_id = 'print_firstName_lastName',\n",
    "                       bash_command=\"echo $firstName $lastName \",\n",
    "                       dag=dag)"
   ]
  },
  {
   "cell_type": "code",
   "execution_count": 9,
   "id": "567937e4",
   "metadata": {},
   "outputs": [
    {
     "data": {
      "text/plain": [
       "<Task(BashOperator): print_firstName_lastName>"
      ]
     },
     "execution_count": 9,
     "metadata": {},
     "output_type": "execute_result"
    }
   ],
   "source": [
    "#specifying the dependencies between the different tasks\n",
    "Task1_1 >> Task1_2 >> Task2_1 >> Task2_2 >> Task3"
   ]
  }
 ],
 "metadata": {
  "kernelspec": {
   "display_name": "Python 3",
   "language": "python",
   "name": "python3"
  },
  "language_info": {
   "codemirror_mode": {
    "name": "ipython",
    "version": 3
   },
   "file_extension": ".py",
   "mimetype": "text/x-python",
   "name": "python",
   "nbconvert_exporter": "python",
   "pygments_lexer": "ipython3",
   "version": "3.8.8"
  }
 },
 "nbformat": 4,
 "nbformat_minor": 5
}
