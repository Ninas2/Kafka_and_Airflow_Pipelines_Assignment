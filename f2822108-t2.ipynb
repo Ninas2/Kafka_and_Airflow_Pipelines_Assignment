{
 "cells": [
  {
   "cell_type": "markdown",
   "id": "eda82bcf",
   "metadata": {},
   "source": [
    "# Big Data Systems and Architectures - Kafka & Airflow Assignment\n",
    "\n",
    "> Konstantinos Ninas, f2822108 <br />\n",
    "> MSc in Business Analytics <br />\n",
    "> Department of Management Science and Technology <br />\n",
    "> Athens University of Economics and Business <br />\n",
    "> f2822108@aueb.gr"
   ]
  },
  {
   "cell_type": "code",
   "execution_count": 2,
   "id": "f0247162",
   "metadata": {},
   "outputs": [],
   "source": [
    "#import libraries\n",
    "from kafka import *\n",
    "from kafka.admin import KafkaAdminClient, NewTopic\n",
    "import datetime as dt\n",
    "import json"
   ]
  },
  {
   "cell_type": "code",
   "execution_count": 32,
   "id": "48238cb5",
   "metadata": {},
   "outputs": [],
   "source": [
    "#define and create a KafkaAdminClass to conduct fundamental administrative management operations\n",
    "admin_client = KafkaAdminClient(bootstrap_servers=\"localhost:9092\", client_id='pipelines')"
   ]
  },
  {
   "cell_type": "code",
   "execution_count": 3,
   "id": "d22e9e61",
   "metadata": {},
   "outputs": [],
   "source": [
    "#we define an empty topic list\n",
    "topic_list=[]\n",
    "#with the 'NewTopic' class we create a topic named 'clima'\n",
    "clima_topic = NewTopic(name=\"clima\", num_partitions = 2, replication_factor=1)\n",
    "#we append the new topic in the empty topic list\n",
    "topic_list.append(clima_topic)"
   ]
  },
  {
   "cell_type": "code",
   "execution_count": 33,
   "id": "eec5c1a1",
   "metadata": {},
   "outputs": [],
   "source": [
    "#we import the topic list in the Kafka Client\n",
    "admin_client.create_topics(new_topics=topic_list)"
   ]
  },
  {
   "cell_type": "code",
   "execution_count": 34,
   "id": "fd934e41",
   "metadata": {},
   "outputs": [],
   "source": [
    "#with the 'KafkaProducer' class we will create a new producer that will produce messages in json format\n",
    "producer=KafkaProducer(value_serializer=lambda v: json(v).encode('utf-8'))"
   ]
  },
  {
   "cell_type": "code",
   "execution_count": 6,
   "id": "f1237da0",
   "metadata": {},
   "outputs": [
    {
     "data": {
      "text/plain": [
       "'2022-04-11 22:18:57.988368'"
      ]
     },
     "execution_count": 6,
     "metadata": {},
     "output_type": "execute_result"
    }
   ],
   "source": [
    "#we create a variable that contains the timestamp at any given moment\n",
    "timestamp = str(dt.datetime.now())\n",
    "timestamp"
   ]
  },
  {
   "cell_type": "code",
   "execution_count": null,
   "id": "4be76883",
   "metadata": {},
   "outputs": [],
   "source": [
    "#production of 5 messages from the producer that include the temperature\n",
    "#, humidity and a timestamp in the 'clima' topic\n",
    "producer.send('clima',{'temperature':15, 'humidity':52, 'timestamp':timestamp})\n",
    "producer.send('clima',{'temperature':17, 'humidity':56, 'timestamp':timestamp})\n",
    "producer.send('clima',{'temperature':12, 'humidity':35, 'timestamp':timestamp})\n",
    "producer.send('clima',{'temperature':14, 'humidity':44, 'timestamp':timestamp})\n",
    "producer.send('clima',{'temperature':19, 'humidity':46, 'timestamp':timestamp})"
   ]
  },
  {
   "cell_type": "code",
   "execution_count": null,
   "id": "b58ffca7",
   "metadata": {},
   "outputs": [],
   "source": [
    "#define and create a consumer that will be subscribed in the 'clima' topic\n",
    "consumer=KafkaConsumer('clima')"
   ]
  },
  {
   "cell_type": "code",
   "execution_count": 30,
   "id": "5741b0de",
   "metadata": {},
   "outputs": [],
   "source": [
    "#Iterate to print the messages\n",
    "for msg in consumer:\n",
    "    print(msg.value.decode(\"utf-8\"))"
   ]
  }
 ],
 "metadata": {
  "kernelspec": {
   "display_name": "Python 3",
   "language": "python",
   "name": "python3"
  },
  "language_info": {
   "codemirror_mode": {
    "name": "ipython",
    "version": 3
   },
   "file_extension": ".py",
   "mimetype": "text/x-python",
   "name": "python",
   "nbconvert_exporter": "python",
   "pygments_lexer": "ipython3",
   "version": "3.8.8"
  }
 },
 "nbformat": 4,
 "nbformat_minor": 5
}
